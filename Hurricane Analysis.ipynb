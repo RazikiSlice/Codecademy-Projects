{
 "cells": [
  {
   "cell_type": "markdown",
   "id": "58875e7a",
   "metadata": {},
   "source": [
    "# Hurricane Analysis"
   ]
  },
  {
   "cell_type": "code",
   "execution_count": 1,
   "id": "d8d3c50b",
   "metadata": {},
   "outputs": [],
   "source": [
    "# damages (USD($)) of hurricanes\n",
    "damages = ['Damages not recorded', '100M', 'Damages not recorded', '40M',\n",
    "          '27.9M', '5M', 'Damages not recorded', '306M', '2M', '65.8M',\n",
    "          '326M', '60.3M', '208M', '1.42B', '25.4M', 'Damages not recorded',\n",
    "          '1.54B', '1.24B', '7.1B', '10B', '26.5B', '6.2B', '5.37B', '23.3B',\n",
    "          '1.01B', '125B', '12B', '29.4B', '1.76B', '720M', '15.1B', '64.8B',\n",
    "          '91.6B', '25.1B']\n",
    "\n",
    "# 1\n",
    "# Update Recorded Damages\n",
    "conversion = {\"M\": 1000000,\n",
    "             \"B\": 1000000000}\n",
    "\n",
    "# test function by updating damages\n",
    "\n",
    "def updateDamages(damages):\n",
    "    updatedDamages = []\n",
    "    for damage in damages:\n",
    "        if damage[-1] == \"M\" or damage[-1] == \"B\":\n",
    "            #Damage recorded in millions\n",
    "            updatedDamages.append(float(damage[:len(damage)-1])*conversion[damage[-1]])\n",
    "        else:\n",
    "            #Unknown Format / Data\n",
    "            updatedDamages.append(damage)\n",
    "    return updatedDamages  \n",
    "               \n",
    "updatedDamages = updateDamages(damages)"
   ]
  },
  {
   "cell_type": "code",
   "execution_count": 2,
   "id": "641aa113",
   "metadata": {},
   "outputs": [],
   "source": [
    "# names of hurricanes\n",
    "names = ['Cuba I', 'San Felipe II Okeechobee', 'Bahamas', 'Cuba II', 'CubaBrownsville', 'Tampico', 'Labor Day', 'New England', 'Carol', 'Janet', 'Carla', 'Hattie', 'Beulah', 'Camille', 'Edith', 'Anita', 'David', 'Allen', 'Gilbert', 'Hugo', 'Andrew', 'Mitch', 'Isabel', 'Ivan', 'Emily', 'Katrina', 'Rita', 'Wilma', 'Dean', 'Felix', 'Matthew', 'Irma', 'Maria', 'Michael']\n",
    "\n",
    "# months of hurricanes\n",
    "months = ['October', 'September', 'September', 'November', 'August', 'September', 'September', 'September', 'September', 'September', 'September', 'October', 'September', 'August', 'September', 'September', 'August', 'August', 'September', 'September', 'August', 'October', 'September', 'September', 'July', 'August', 'September', 'October', 'August', 'September', 'October', 'September', 'September', 'October']\n",
    "\n",
    "# years of hurricanes\n",
    "years = [1924, 1928, 1932, 1932, 1933, 1933, 1935, 1938, 1953, 1955, 1961, 1961, 1967, 1969, 1971, 1977, 1979, 1980, 1988, 1989, 1992, 1998, 2003, 2004, 2005, 2005, 2005, 2005, 2007, 2007, 2016, 2017, 2017, 2018]\n",
    "\n",
    "# maximum sustained winds (mph) of hurricanes\n",
    "max_sustained_winds = [165, 160, 160, 175, 160, 160, 185, 160, 160, 175, 175, 160, 160, 175, 160, 175, 175, 190, 185, 160, 175, 180, 165, 165, 160, 175, 180, 185, 175, 175, 165, 180, 175, 160]\n",
    "\n",
    "# areas affected by each hurricane\n",
    "areas_affected = [['Central America', 'Mexico', 'Cuba', 'Florida', 'The Bahamas'], ['Lesser Antilles', 'The Bahamas', 'United States East Coast', 'Atlantic Canada'], ['The Bahamas', 'Northeastern United States'], ['Lesser Antilles', 'Jamaica', 'Cayman Islands', 'Cuba', 'The Bahamas', 'Bermuda'], ['The Bahamas', 'Cuba', 'Florida', 'Texas', 'Tamaulipas'], ['Jamaica', 'Yucatn Peninsula'], ['The Bahamas', 'Florida', 'Georgia', 'The Carolinas', 'Virginia'], ['Southeastern United States', 'Northeastern United States', 'Southwestern Quebec'], ['Bermuda', 'New England', 'Atlantic Canada'], ['Lesser Antilles', 'Central America'], ['Texas', 'Louisiana', 'Midwestern United States'], ['Central America'], ['The Caribbean', 'Mexico', 'Texas'], ['Cuba', 'United States Gulf Coast'], ['The Caribbean', 'Central America', 'Mexico', 'United States Gulf Coast'], ['Mexico'], ['The Caribbean', 'United States East coast'], ['The Caribbean', 'Yucatn Peninsula', 'Mexico', 'South Texas'], ['Jamaica', 'Venezuela', 'Central America', 'Hispaniola', 'Mexico'], ['The Caribbean', 'United States East Coast'], ['The Bahamas', 'Florida', 'United States Gulf Coast'], ['Central America', 'Yucatn Peninsula', 'South Florida'], ['Greater Antilles', 'Bahamas', 'Eastern United States', 'Ontario'], ['The Caribbean', 'Venezuela', 'United States Gulf Coast'], ['Windward Islands', 'Jamaica', 'Mexico', 'Texas'], ['Bahamas', 'United States Gulf Coast'], ['Cuba', 'United States Gulf Coast'], ['Greater Antilles', 'Central America', 'Florida'], ['The Caribbean', 'Central America'], ['Nicaragua', 'Honduras'], ['Antilles', 'Venezuela', 'Colombia', 'United States East Coast', 'Atlantic Canada'], ['Cape Verde', 'The Caribbean', 'British Virgin Islands', 'U.S. Virgin Islands', 'Cuba', 'Florida'], ['Lesser Antilles', 'Virgin Islands', 'Puerto Rico', 'Dominican Republic', 'Turks and Caicos Islands'], ['Central America', 'United States Gulf Coast (especially Florida Panhandle)']]\n",
    "\n",
    "# damages (USD($)) of hurricanes\n",
    "damages = ['Damages not recorded', '100M', 'Damages not recorded', '40M', '27.9M', '5M', 'Damages not recorded', '306M', '2M', '65.8M', '326M', '60.3M', '208M', '1.42B', '25.4M', 'Damages not recorded', '1.54B', '1.24B', '7.1B', '10B', '26.5B', '6.2B', '5.37B', '23.3B', '1.01B', '125B', '12B', '29.4B', '1.76B', '720M', '15.1B', '64.8B', '91.6B', '25.1B']\n",
    "\n",
    "# deaths for each hurricane\n",
    "deaths = [90,4000,16,3103,179,184,408,682,5,1023,43,319,688,259,37,11,2068,269,318,107,65,19325,51,124,17,1836,125,87,45,133,603,138,3057,74]\n",
    "\n",
    "# mortality scale\n",
    "mortality_scale = {0: 0,\n",
    "   1: 100,\n",
    "   2: 500,\n",
    "   3: 1000,\n",
    "   4: 10000}\n",
    "\n",
    "# damage scale\n",
    "damage_scale = {0: 0,\n",
    "                1: 100000000,\n",
    "                2: 1000000000,\n",
    "                3: 10000000000,\n",
    "                4: 50000000000}\n",
    "\n",
    "# 2\n",
    "# Create a Table\n",
    "def createHurricaneDictionary(length):\n",
    "    dctHurricanes = {}\n",
    "    for i in range(length):\n",
    "        dctHurricanes[names[i]] = {\"Name\":names[i], \"Month:\":months[i], \"Year\":years[i], \"Max Sustained Wind\":max_sustained_winds[i], \n",
    "                                  \"Areas Affected\":areas_affected[i], \"Damage\":updatedDamages[i], \"Deaths\":deaths[i]}\n",
    "    return dctHurricanes\n",
    "# Create and view the hurricanes dictionary\n",
    "dctHurricanes = createHurricaneDictionary(len(names))"
   ]
  },
  {
   "cell_type": "code",
   "execution_count": 3,
   "id": "1ef2edea",
   "metadata": {},
   "outputs": [],
   "source": [
    "# 3\n",
    "# Organizing by Year\n",
    "# create a new dictionary of hurricanes with year and key\n",
    "\n",
    "def createYearlyDict(dctHurricanes):\n",
    "    dctYearlyHurricanes = {}\n",
    "    for value in dctHurricanes.values():\n",
    "        if value[\"Year\"] in dctYearlyHurricanes:\n",
    "            dctYearlyHurricanes[value[\"Year\"]].append(value)\n",
    "        else:\n",
    "            dctYearlyHurricanes[value[\"Year\"]] = []\n",
    "            dctYearlyHurricanes[value[\"Year\"]].append(value)\n",
    "    return dctYearlyHurricanes\n",
    "\n",
    "dctYearlyHurricanes = createYearlyDict(dctHurricanes)\n",
    "\n",
    "# Counting Damaged Areas\n",
    "def createAreaDict(dctHurricanes):\n",
    "    dctAreaCount = {}\n",
    "    for value in dctHurricanes.values():\n",
    "        for element in value[\"Areas Affected\"]:\n",
    "            if element in dctAreaCount:\n",
    "                dctAreaCount[element] += 1\n",
    "            else:\n",
    "                dctAreaCount[element] = 1\n",
    "    return dctAreaCount\n",
    "\n",
    "dctAreaCounts = createAreaDict(dctHurricanes)"
   ]
  },
  {
   "cell_type": "code",
   "execution_count": 4,
   "id": "643c73f9",
   "metadata": {},
   "outputs": [],
   "source": [
    "# 4\n",
    "# Frequency Functions\n",
    "\n",
    "def createFreqDictionary(dctHurricanes, subvalue):\n",
    "    dctSubDict = {}\n",
    "    for name, stats in dctHurricanes.items():\n",
    "        dctSubDict[name] = stats[subvalue]\n",
    "    return dctSubDict\n",
    "\n",
    "def getMaxValue(dctDict):\n",
    "    maxValue = 0\n",
    "    maxKey = \"\"\n",
    "    for key, value in dctDict.items():\n",
    "        if isinstance(value, str):\n",
    "            continue\n",
    "        if value >= maxValue:\n",
    "            maxValue = value\n",
    "            maxKey = key\n",
    "    return (maxKey, maxValue)"
   ]
  },
  {
   "cell_type": "code",
   "execution_count": 5,
   "id": "ced02448",
   "metadata": {},
   "outputs": [
    {
     "name": "stdout",
     "output_type": "stream",
     "text": [
      "Central America was impacted the most with 9 hurricanes\n",
      "Hurricane Mitch was the deadliest with 19325 deaths\n",
      "The highest damaging hurricane is Katrina with a cost of 125000000000.0\n"
     ]
    }
   ],
   "source": [
    "# 5\n",
    "\n",
    "# find most frequently affected area and the number of hurricanes involved in\n",
    "tupMostImpacted = getMaxValue(dctAreaCounts)\n",
    "print(\"{} was impacted the most with {} hurricanes\".format(tupMostImpacted[0], tupMostImpacted[1]))\n",
    "\n",
    "# find highest mortality hurricane and the number of deaths     \n",
    "dctHurricaneDeaths = createFreqDictionary(dctHurricanes, \"Deaths\")\n",
    "tupMostDeadly = getMaxValue(dctHurricaneDeaths)\n",
    "print(\"Hurricane {} was the deadliest with {} deaths\".format(tupMostDeadly[0], tupMostDeadly[1]))\n",
    "\n",
    "# find highest damage inducing hurricane and its total cost\n",
    "dctHurricaneDamages = createFreqDictionary(dctHurricanes, \"Damage\")\n",
    "tupMostDamages = getMaxValue(dctHurricaneDamages)\n",
    "print(\"The highest damaging hurricane is {} with a cost of {}\".format(tupMostDamages[0], tupMostDamages[1]))\n",
    "        "
   ]
  },
  {
   "cell_type": "code",
   "execution_count": 6,
   "id": "9eea4dc7",
   "metadata": {},
   "outputs": [],
   "source": [
    "# 7\n",
    "# Hurricane Scale functions\n",
    "\n",
    "def getScaleLevel(dctScale, num):\n",
    "    for level, maxVal in dctScale.items():\n",
    "        if num <= maxVal:\n",
    "            return level\n",
    "    return 5\n",
    "\n",
    "def createScaledDict (dctDict, dctScale):\n",
    "    dctScaledDict = {}\n",
    "    for scaleLevel in dctScale.keys():\n",
    "        dctScaledDict[scaleLevel] = []\n",
    "    for key, value in dctDict.items():\n",
    "        if isinstance(value, str):\n",
    "            continue;\n",
    "        scaleLevel = getScaleLevel(dctScale, value)\n",
    "        if scaleLevel in dctScale.keys():\n",
    "            dctScaledDict[scaleLevel].append(key)\n",
    "    return dctScaledDict"
   ]
  },
  {
   "cell_type": "code",
   "execution_count": 7,
   "id": "e543f487",
   "metadata": {},
   "outputs": [
    {
     "name": "stdout",
     "output_type": "stream",
     "text": [
      "{0: [], 1: ['Cuba I', 'Bahamas', 'Carol', 'Carla', 'Edith', 'Anita', 'Andrew', 'Isabel', 'Emily', 'Wilma', 'Dean', 'Michael'], 2: ['CubaBrownsville', 'Tampico', 'Labor Day', 'Hattie', 'Camille', 'Allen', 'Gilbert', 'Hugo', 'Ivan', 'Rita', 'Felix', 'Irma'], 3: ['New England', 'Beulah', 'Matthew'], 4: ['San Felipe II Okeechobee', 'Cuba II', 'Janet', 'David', 'Katrina', 'Maria']}\n",
      "{0: [], 1: ['San Felipe II Okeechobee', 'Cuba II', 'CubaBrownsville', 'Tampico', 'Carol', 'Janet', 'Hattie', 'Edith'], 2: ['New England', 'Carla', 'Beulah', 'Felix'], 3: ['Camille', 'David', 'Allen', 'Gilbert', 'Hugo', 'Mitch', 'Isabel', 'Emily', 'Dean'], 4: ['Andrew', 'Ivan', 'Rita', 'Wilma', 'Matthew', 'Michael']}\n"
     ]
    }
   ],
   "source": [
    "# 8\n",
    "# Rating Hurricanes by Deaths\n",
    "dctScaledHurricaneDeaths = createScaledDict(dctHurricaneDeaths, mortality_scale)\n",
    "print(dctScaledHurricaneDeaths)\n",
    "# Rating Hurricanes by Damage\n",
    "dctScaledHurricaneDamages = createScaledDict(dctHurricaneDamages, damage_scale)\n",
    "print(dctScaledHurricaneDamages)"
   ]
  },
  {
   "cell_type": "code",
   "execution_count": null,
   "id": "da8f7141",
   "metadata": {},
   "outputs": [],
   "source": []
  }
 ],
 "metadata": {
  "kernelspec": {
   "display_name": "Python 3 (ipykernel)",
   "language": "python",
   "name": "python3"
  },
  "language_info": {
   "codemirror_mode": {
    "name": "ipython",
    "version": 3
   },
   "file_extension": ".py",
   "mimetype": "text/x-python",
   "name": "python",
   "nbconvert_exporter": "python",
   "pygments_lexer": "ipython3",
   "version": "3.11.5"
  },
  "vscode": {
   "interpreter": {
    "hash": "b784193cf0f9970b27f3c12f21dbff8ed97e3cf923dc23fe210654173bc3fdd0"
   }
  }
 },
 "nbformat": 4,
 "nbformat_minor": 5
}
